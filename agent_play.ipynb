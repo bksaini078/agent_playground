{
 "cells": [
  {
   "cell_type": "code",
   "execution_count": 16,
   "id": "f3ee5301",
   "metadata": {},
   "outputs": [
    {
     "data": {
      "application/vnd.jupyter.widget-view+json": {
       "model_id": "688c3fc0945a49e98ecaa6a99bf7c0e6",
       "version_major": 2,
       "version_minor": 0
      },
      "text/plain": [
       "Output()"
      ]
     },
     "metadata": {},
     "output_type": "display_data"
    },
    {
     "data": {
      "text/html": [
       "<pre style=\"white-space:pre;overflow-x:auto;line-height:normal;font-family:Menlo,'DejaVu Sans Mono',consolas,'Courier New',monospace\"></pre>\n"
      ],
      "text/plain": []
     },
     "metadata": {},
     "output_type": "display_data"
    },
    {
     "name": "stdout",
     "output_type": "stream",
     "text": [
      "None\n"
     ]
    }
   ],
   "source": [
    "from agno.agent import Agent\n",
    "from agno.models.azure import AzureOpenAI\n",
    "from dotenv import load_dotenv\n",
    "load_dotenv()\n",
    "agent = Agent(\n",
    "    model=AzureOpenAI(id=\"gpt-4o-2024-08-06\",\n",
    "                      api_version=\"2024-02-01\",\n",
    "                      azure_endpoint=\"https://fhgenie-api-iao-quanderlan.openai.azure.com/\",\n",
    "                      api_key=\"9a34553c47b942c1816d5924b8280d7b\"),\n",
    "    markdown=True,\n",
    "    show_tool_calls=True,\n",
    "    add_datetime_to_instructions=True\n",
    ")\n",
    "\n",
    "# Print the response on the terminal\n",
    "print(agent.print_response(\"Share a 2 sentence horror story.\"))"
   ]
  },
  {
   "cell_type": "code",
   "execution_count": null,
   "id": "a1de49cf",
   "metadata": {},
   "outputs": [],
   "source": []
  }
 ],
 "metadata": {
  "kernelspec": {
   "display_name": "Python 3",
   "language": "python",
   "name": "python3"
  },
  "language_info": {
   "codemirror_mode": {
    "name": "ipython",
    "version": 3
   },
   "file_extension": ".py",
   "mimetype": "text/x-python",
   "name": "python",
   "nbconvert_exporter": "python",
   "pygments_lexer": "ipython3",
   "version": "3.12.9"
  }
 },
 "nbformat": 4,
 "nbformat_minor": 5
}
